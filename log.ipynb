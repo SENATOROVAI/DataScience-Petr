{
 "cells": [
  {
   "cell_type": "code",
   "execution_count": null,
   "metadata": {},
   "outputs": [],
   "source": [
    "\"\"\"1 лог занятия.\"\"\""
   ]
  },
  {
   "cell_type": "markdown",
   "metadata": {},
   "source": [
    "\n",
    "23/11\n",
    "\n",
    "1) Изучали, что такое функция\n",
    "2) изучали, что такое множества ( конъюнкция, дизъюнкция, отрицание)\n",
    "3) изучали, что числа ( натуральные, целые, рациональные, иррациональные, действительные)\n"
   ]
  }
 ],
 "metadata": {
  "language_info": {
   "name": "python"
  }
 },
 "nbformat": 4,
 "nbformat_minor": 2
}
